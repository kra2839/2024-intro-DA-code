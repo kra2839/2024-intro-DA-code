{
  "cells": [
    {
      "cell_type": "markdown",
      "metadata": {
        "id": "view-in-github",
        "colab_type": "text"
      },
      "source": [
        "<a href=\"https://colab.research.google.com/github/kra2839/2024-intro-DA-code/blob/main/%EB%8D%B0%EC%9D%B4%ED%84%B0%EB%B6%84%EC%84%9D%EC%9E%85%EB%AC%B8%204%EC%9E%A5%203%EC%A0%88.ipynb\" target=\"_parent\"><img src=\"https://colab.research.google.com/assets/colab-badge.svg\" alt=\"Open In Colab\"/></a>"
      ]
    },
    {
      "cell_type": "code",
      "source": [
        "import numpy as np\n",
        "\n",
        "rg = np.random.default_rng(12345)\n",
        "rg"
      ],
      "metadata": {
        "id": "-5g7ZtW-OSip",
        "outputId": "c071b36b-184f-4e41-894f-5d2d387bf06c",
        "colab": {
          "base_uri": "https://localhost:8080/"
        }
      },
      "execution_count": 1,
      "outputs": [
        {
          "output_type": "execute_result",
          "data": {
            "text/plain": [
              "Generator(PCG64) at 0x7B31E9465D20"
            ]
          },
          "metadata": {},
          "execution_count": 1
        }
      ]
    },
    {
      "cell_type": "code",
      "source": [
        "# Generate one random float uniformly distributed over the range[0,1)\n",
        "r=rg.random()\n",
        "r"
      ],
      "metadata": {
        "id": "7fDzDj1WOlH6",
        "outputId": "40588047-33fe-4afa-8901-15d415ea7d50",
        "colab": {
          "base_uri": "https://localhost:8080/"
        }
      },
      "execution_count": 2,
      "outputs": [
        {
          "output_type": "execute_result",
          "data": {
            "text/plain": [
              "0.22733602246716966"
            ]
          },
          "metadata": {},
          "execution_count": 2
        }
      ]
    },
    {
      "cell_type": "code",
      "source": [
        "rg.random(5)"
      ],
      "metadata": {
        "id": "O0oCMsDcPFca",
        "outputId": "43ad6f51-ee74-4c32-8346-296c4d9f8581",
        "colab": {
          "base_uri": "https://localhost:8080/"
        }
      },
      "execution_count": 4,
      "outputs": [
        {
          "output_type": "execute_result",
          "data": {
            "text/plain": [
              "array([0.31675834, 0.79736546, 0.67625467, 0.39110955, 0.33281393])"
            ]
          },
          "metadata": {},
          "execution_count": 4
        }
      ]
    },
    {
      "cell_type": "code",
      "source": [
        "rg.random((4,3))"
      ],
      "metadata": {
        "id": "xugDPi-bPK8k",
        "outputId": "6afa03f7-3deb-4cc0-feff-520c653aa411",
        "colab": {
          "base_uri": "https://localhost:8080/"
        }
      },
      "execution_count": 5,
      "outputs": [
        {
          "output_type": "execute_result",
          "data": {
            "text/plain": [
              "array([[0.59830875, 0.18673419, 0.67275604],\n",
              "       [0.94180287, 0.24824571, 0.94888115],\n",
              "       [0.66723745, 0.09589794, 0.44183967],\n",
              "       [0.88647992, 0.6974535 , 0.32647286]])"
            ]
          },
          "metadata": {},
          "execution_count": 5
        }
      ]
    },
    {
      "cell_type": "code",
      "source": [
        "import numpy as np\n",
        "\n",
        "rg = np.random.default_rng(12345)\n",
        "r= rg.integers(low=0,high=10,size=3)\n",
        "r"
      ],
      "metadata": {
        "id": "8-x_rpQ7PYeO",
        "outputId": "3096ce00-e625-445c-be21-6372faabf241",
        "colab": {
          "base_uri": "https://localhost:8080/"
        }
      },
      "execution_count": 8,
      "outputs": [
        {
          "output_type": "execute_result",
          "data": {
            "text/plain": [
              "array([6, 2, 7])"
            ]
          },
          "metadata": {},
          "execution_count": 8
        }
      ]
    },
    {
      "cell_type": "code",
      "source": [
        "rg.integers(1,7,(3,4))"
      ],
      "metadata": {
        "id": "K2dBhjdbQD-e",
        "outputId": "1ff2701e-e604-41ac-e2db-8b7c86b5d62b",
        "colab": {
          "base_uri": "https://localhost:8080/"
        }
      },
      "execution_count": 9,
      "outputs": [
        {
          "output_type": "execute_result",
          "data": {
            "text/plain": [
              "array([[2, 2, 5, 4],\n",
              "       [5, 6, 3, 6],\n",
              "       [2, 4, 4, 2]])"
            ]
          },
          "metadata": {},
          "execution_count": 9
        }
      ]
    },
    {
      "cell_type": "code",
      "source": [
        "import numpy as np\n",
        "\n",
        "rg= np.random.default_rng(seed=42)\n",
        "rg.standard_normal((4,3))"
      ],
      "metadata": {
        "id": "MA6WWBjlQn6r",
        "outputId": "a351be8f-f2ab-4339-82e8-4ccf04fcc34d",
        "colab": {
          "base_uri": "https://localhost:8080/"
        }
      },
      "execution_count": 10,
      "outputs": [
        {
          "output_type": "execute_result",
          "data": {
            "text/plain": [
              "array([[ 0.30471708, -1.03998411,  0.7504512 ],\n",
              "       [ 0.94056472, -1.95103519, -1.30217951],\n",
              "       [ 0.1278404 , -0.31624259, -0.01680116],\n",
              "       [-0.85304393,  0.87939797,  0.77779194]])"
            ]
          },
          "metadata": {},
          "execution_count": 10
        }
      ]
    },
    {
      "cell_type": "code",
      "source": [],
      "metadata": {
        "id": "mPV_n1-dROC_"
      },
      "execution_count": null,
      "outputs": []
    },
    {
      "cell_type": "code",
      "source": [],
      "metadata": {
        "id": "Iu3qEQT8RP3h"
      },
      "execution_count": null,
      "outputs": []
    }
  ],
  "metadata": {
    "colab": {
      "name": "Colaboratory에 오신 것을 환영합니다",
      "provenance": [],
      "include_colab_link": true
    },
    "kernelspec": {
      "display_name": "Python 3",
      "name": "python3"
    }
  },
  "nbformat": 4,
  "nbformat_minor": 0
}